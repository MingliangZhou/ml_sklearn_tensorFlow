{
 "cells": [
  {
   "cell_type": "code",
   "execution_count": 6,
   "metadata": {},
   "outputs": [
    {
     "name": "stdout",
     "output_type": "stream",
     "text": [
      "0.924403964919 0.93600240009 0.902403597546 0.939608651161\n"
     ]
    }
   ],
   "source": [
    "import sys\n",
    "import warnings\n",
    "if not sys.warnoptions:\n",
    "    warnings.simplefilter(\"ignore\")\n",
    "    \n",
    "import pandas as pd\n",
    "import numpy as np\n",
    "import matplotlib\n",
    "import matplotlib.pyplot as plt\n",
    "from sklearn.model_selection import train_test_split\n",
    "from sklearn.model_selection import GridSearchCV\n",
    "from sklearn.model_selection import cross_val_score\n",
    "from sklearn.ensemble import RandomForestClassifier\n",
    "from sklearn.ensemble import ExtraTreesClassifier\n",
    "from sklearn.ensemble import VotingClassifier\n",
    "from sklearn.svm import SVC\n",
    "from sklearn.metrics import accuracy_score\n",
    "from sklearn.pipeline import Pipeline\n",
    "from sklearn.preprocessing import StandardScaler\n",
    "\n",
    "# read data\n",
    "df_train = pd.read_csv(\"../datasets/mnist_train.csv\")\n",
    "df_test = pd.read_csv(\"../datasets/mnist_test.csv\")\n",
    "X_train = df_train.iloc[0:5000].drop(\"5\", axis=1).values\n",
    "y_train = df_train.iloc[0:5000][\"5\"].values.ravel()\n",
    "X_test = df_test.drop(\"7\", axis=1).values\n",
    "y_test = df_test[\"7\"].values.ravel()\n",
    "\n",
    "# random forest\n",
    "\"\"\"\n",
    "param_grid = [\n",
    "    {\"n_estimators\": range(2,200,20), \"min_samples_leaf\": range(2,40,4)}\n",
    "]\n",
    "forest_clf = GridSearchCV(RandomForestClassifier(), param_grid, cv=3, scoring=\"accuracy\")\n",
    "forest_clf.fit(X_train, y_train)\n",
    "scores = np.array(forest_clf.cv_results_[\"mean_test_score\"])\n",
    "X1, X2 = np.meshgrid(np.arange(2,200,20), np.arange(2,40,4))\n",
    "plt.figure()\n",
    "plt.contourf(X1, X2, scores.reshape(X1.shape), cmap=plt.get_cmap(\"jet\"), )\n",
    "plt.xlabel(\"n_estimators\")\n",
    "plt.ylabel(\"min_samples_leaf\")\n",
    "plt.colorbar()\n",
    "plt.savefig(\"../plots/ex_7_03.pdf\")\n",
    "\"\"\"\n",
    "forest_clf = RandomForestClassifier(n_estimators=100)\n",
    "forest_scores = cross_val_score(forest_clf, X_train, y_train, cv=3, scoring=\"accuracy\")\n",
    "\n",
    "extree_clf = ExtraTreesClassifier(n_estimators=100)\n",
    "extree_scores = cross_val_score(extree_clf, X_train, y_train, cv=3, scoring=\"accuracy\")\n",
    "\n",
    "svm_clf = Pipeline([\n",
    "    (\"scaler\", StandardScaler()),\n",
    "    (\"svm_clf\", SVC(probability=True))\n",
    "])\n",
    "svm_scores = cross_val_score(svm_clf, X_train, y_train, cv=3, scoring=\"accuracy\")\n",
    "\n",
    "voting_clf = VotingClassifier(\n",
    "    estimators=[(\"forest\", forest_clf), (\"extree\", extree_clf), (\"svm\", svm_clf)],\n",
    "    voting=\"soft\")\n",
    "voting_scores = cross_val_score(voting_clf, X_train, y_train, cv=3, scoring=\"accuracy\")\n",
    "\n",
    "print(forest_scores.mean(), extree_scores.mean(), svm_scores.mean(), voting_scores.mean())"
   ]
  },
  {
   "cell_type": "code",
   "execution_count": null,
   "metadata": {},
   "outputs": [],
   "source": []
  }
 ],
 "metadata": {
  "kernelspec": {
   "display_name": "Python 3",
   "language": "python",
   "name": "python3"
  },
  "language_info": {
   "codemirror_mode": {
    "name": "ipython",
    "version": 3
   },
   "file_extension": ".py",
   "mimetype": "text/x-python",
   "name": "python",
   "nbconvert_exporter": "python",
   "pygments_lexer": "ipython3",
   "version": "3.6.0"
  }
 },
 "nbformat": 4,
 "nbformat_minor": 2
}
