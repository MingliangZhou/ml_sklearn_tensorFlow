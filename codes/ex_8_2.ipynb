{
 "cells": [
  {
   "cell_type": "code",
   "execution_count": 6,
   "metadata": {},
   "outputs": [
    {
     "name": "stdout",
     "output_type": "stream",
     "text": [
      "0.930211712023\n",
      "0.928399816488\n"
     ]
    }
   ],
   "source": [
    "import sys\n",
    "import warnings\n",
    "if not sys.warnoptions:\n",
    "    warnings.simplefilter(\"ignore\")\n",
    "    \n",
    "import numpy as np\n",
    "import pandas as pd\n",
    "import matplotlib\n",
    "import matplotlib.pyplot as plt\n",
    "from sklearn.manifold import TSNE\n",
    "from sklearn.model_selection import cross_val_score\n",
    "from sklearn.ensemble import RandomForestClassifier\n",
    "\n",
    "# read MNIST\n",
    "df_train = pd.read_csv(\"../datasets/mnist_train.csv\")\n",
    "df_test = pd.read_csv(\"../datasets/mnist_test.csv\")\n",
    "X_train = df_train.iloc[0:5000].drop(\"5\", axis=1).values\n",
    "y_train = df_train.iloc[0:5000][\"5\"].values.ravel()\n",
    "\n",
    "# train with TSNE\n",
    "tsne = TSNE(n_components=2)\n",
    "X_train_reduced = tsne.fit_transform(X_train)\n",
    "forest_clf = RandomForestClassifier(n_estimators=100)\n",
    "forest_scores = cross_val_score(forest_clf, X_train_reduced, y_train, cv=3, scoring=\"accuracy\")\n",
    "print(forest_scores.mean())\n",
    "forest_scores = cross_val_score(forest_clf, X_train, y_train, cv=3, scoring=\"accuracy\")\n",
    "print(forest_scores.mean())\n",
    "\n",
    "# plot\n",
    "plt.figure(figsize=(8,6))\n",
    "plt.scatter(X_train_reduced[:,0], X_train_reduced[:,1], c=y_train, \n",
    "            cmap=plt.get_cmap(\"jet\"), alpha=0.5)\n",
    "plt.title(\"t-SNE\")\n",
    "plt.xlabel(\"Z_1\")\n",
    "plt.ylabel(\"Z_2\")\n",
    "plt.colorbar()\n",
    "plt.savefig(\"../plots/ex_8_07.pdf\")\n"
   ]
  },
  {
   "cell_type": "code",
   "execution_count": null,
   "metadata": {},
   "outputs": [],
   "source": []
  }
 ],
 "metadata": {
  "kernelspec": {
   "display_name": "Python 3",
   "language": "python",
   "name": "python3"
  },
  "language_info": {
   "codemirror_mode": {
    "name": "ipython",
    "version": 3
   },
   "file_extension": ".py",
   "mimetype": "text/x-python",
   "name": "python",
   "nbconvert_exporter": "python",
   "pygments_lexer": "ipython3",
   "version": "3.6.0"
  }
 },
 "nbformat": 4,
 "nbformat_minor": 2
}
