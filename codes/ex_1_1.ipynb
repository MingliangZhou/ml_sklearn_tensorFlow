{
 "cells": [
  {
   "cell_type": "code",
   "execution_count": 38,
   "metadata": {},
   "outputs": [
    {
     "name": "stdout",
     "output_type": "stream",
     "text": [
      "['/usr/local/lib/python3.6/site-packages/sklearn']\n",
      "              Country          Indicator Inequality        2015  Value\n",
      "72          Australia  Life satisfaction      Total   50961.865    7.3\n",
      "161           Austria  Life satisfaction      Total   43724.031    6.9\n",
      "250           Belgium  Life satisfaction      Total   40106.632    6.9\n",
      "338            Canada  Life satisfaction      Total   43331.961    7.3\n",
      "428    Czech Republic  Life satisfaction      Total   17256.918    6.5\n",
      "517           Denmark  Life satisfaction      Total   52114.165    7.5\n",
      "606           Finland  Life satisfaction      Total   41973.988    7.4\n",
      "695            France  Life satisfaction      Total   37675.006    6.5\n",
      "784           Germany  Life satisfaction      Total   40996.511    7.0\n",
      "874            Greece  Life satisfaction      Total   18064.288    4.8\n",
      "964           Hungary  Life satisfaction      Total   12239.894    4.9\n",
      "1054          Iceland  Life satisfaction      Total   50854.583    7.5\n",
      "1144          Ireland  Life satisfaction      Total   51350.744    7.0\n",
      "1234            Italy  Life satisfaction      Total   29866.581    6.0\n",
      "1324            Japan  Life satisfaction      Total   32485.545    5.9\n",
      "1414            Korea  Life satisfaction      Total   27195.197    5.8\n",
      "1503       Luxembourg  Life satisfaction      Total  101994.093    6.9\n",
      "1593           Mexico  Life satisfaction      Total    9009.280    6.7\n",
      "1682      Netherlands  Life satisfaction      Total   43603.115    7.3\n",
      "1771      New Zealand  Life satisfaction      Total   37044.891    7.3\n",
      "1861           Norway  Life satisfaction      Total   74822.106    7.4\n",
      "1951           Poland  Life satisfaction      Total   12495.334    5.8\n",
      "2041         Portugal  Life satisfaction      Total   19121.592    5.1\n",
      "2131  Slovak Republic  Life satisfaction      Total   15991.736    6.1\n",
      "2220            Spain  Life satisfaction      Total   25864.721    6.5\n",
      "2310           Sweden  Life satisfaction      Total   49866.266    7.2\n",
      "2400      Switzerland  Life satisfaction      Total   80675.308    7.5\n",
      "2490           Turkey  Life satisfaction      Total    9437.372    5.6\n",
      "2579   United Kingdom  Life satisfaction      Total   43770.688    6.8\n",
      "2668    United States  Life satisfaction      Total   55805.204    7.2\n",
      "2756           Brazil  Life satisfaction      Total    8669.998    7.0\n",
      "2845            Chile  Life satisfaction      Total   13340.905    6.7\n",
      "2935          Estonia  Life satisfaction      Total   17288.083    5.6\n",
      "3024           Israel  Life satisfaction      Total   35343.336    7.4\n",
      "3113           Russia  Life satisfaction      Total    9054.914    6.0\n",
      "3201         Slovenia  Life satisfaction      Total   20732.482    5.7\n"
     ]
    }
   ],
   "source": [
    "from matplotlib import pyplot as plt\n",
    "import numpy as np\n",
    "import pandas as pd\n",
    "#from sklearn import linear_model\n",
    "import sklearn\n",
    "\n",
    "print(sklearn.__path__)\n",
    "\n",
    "oecd_bli = pd.read_csv(\"../datasets/oecd_bli_2015.csv\", thousands=\",\")\n",
    "gdp_per_capita = pd.read_csv(\"../datasets/gdp_per_capita.csv\", thousands=\",\", delimiter=\"\\t\", encoding=\"latin1\", na_values=\"n/a\")\n",
    "\n",
    "bli_gdp = pd.merge(oecd_bli, gdp_per_capita, left_on=\"Country\", right_on=\"Country\", how=\"outer\")\n",
    "bli_gdp = bli_gdp[(bli_gdp[\"Indicator\"] == \"Life satisfaction\") & (bli_gdp[\"Inequality\"] == \"Total\")]\n",
    "bli_gdp = bli_gdp[[\"Country\",\"Indicator\",\"Inequality\",\"2015\",\"Value\"]]\n",
    "bli_gdp = bli_gdp.iloc[:-1]\n",
    "\n",
    "#print(oecd_bli.head(10))\n",
    "#print(gdp_per_capita.head(10))\n",
    "print(bli_gdp.head(100))\n",
    "\n",
    "X = np.c_[bli_gdp[\"2015\"]]\n",
    "y = np.c_[bli_gdp[\"Value\"]]\n",
    "\n",
    "model = sklearn.linear_model.LinearRegression()\n",
    "model.fit(X, y)\n",
    "yPred1 = model.predict(X)\n",
    "model = sklearn.neighbors.KNeighborsRegressor(n_neighbors=3)\n",
    "model.fit(X, y)\n",
    "yPred2 = model.predict(X)\n",
    "\n",
    "plt.figure(figsize=(4,4))\n",
    "plt.scatter(X, y, label=\"data\")\n",
    "plt.plot(X, yPred1, linestyle=\":\", linewidth=1, color=\"r\", label=\"pred. 1\")\n",
    "plt.scatter(X, yPred2, facecolors=\"none\", edgecolors=\"b\", label=\"pred. 2\")\n",
    "plt.xlabel(\"GDP per capita\")\n",
    "plt.ylabel(\"Life satisfaction\")\n",
    "plt.legend()\n",
    "plt.savefig(\"../plots/ex_1_1.pdf\")"
   ]
  },
  {
   "cell_type": "code",
   "execution_count": null,
   "metadata": {},
   "outputs": [],
   "source": []
  },
  {
   "cell_type": "code",
   "execution_count": null,
   "metadata": {},
   "outputs": [],
   "source": []
  }
 ],
 "metadata": {
  "kernelspec": {
   "display_name": "Python 3",
   "language": "python",
   "name": "python3"
  },
  "language_info": {
   "codemirror_mode": {
    "name": "ipython",
    "version": 3
   },
   "file_extension": ".py",
   "mimetype": "text/x-python",
   "name": "python",
   "nbconvert_exporter": "python",
   "pygments_lexer": "ipython3",
   "version": "3.6.0"
  }
 },
 "nbformat": 4,
 "nbformat_minor": 2
}
