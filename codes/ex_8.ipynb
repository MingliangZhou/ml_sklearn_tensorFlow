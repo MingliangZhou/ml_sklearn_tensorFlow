{
 "cells": [
  {
   "cell_type": "code",
   "execution_count": 52,
   "metadata": {},
   "outputs": [],
   "source": [
    "import sys\n",
    "import warnings\n",
    "if not sys.warnoptions:\n",
    "    warnings.simplefilter(\"ignore\")\n",
    "    \n",
    "import math\n",
    "import numpy as np\n",
    "import matplotlib\n",
    "import matplotlib.pyplot as plt\n",
    "from sklearn.decomposition import PCA\n",
    "\n",
    "# Singular Value Decomposition (SVD)\n",
    "X1 = 2 * np.random.rand(100,1)\n",
    "X2 = 4 + 3 * X1 + np.random.rand(100,1)\n",
    "X = np.c_[X1, X2]\n",
    "X = X - X.mean(axis=0)\n",
    "U, s, Vt = np.linalg.svd(X)\n",
    "W2 = Vt.T[:,:2]\n",
    "X2D = X.dot(W2)\n",
    "plt.figure(figsize=(10,5))\n",
    "plt.subplot(121)\n",
    "plt.plot(X[:,0], X[:,1], \".\", label=\"data\")\n",
    "plt.plot(np.arange(-3,3,0.01), np.arange(-3,3,0.01)*Vt.T[:,0][1]/Vt.T[:,0][0], \n",
    "         \"r--\", label=\"PCA 1\")\n",
    "plt.plot(np.arange(-3,3,0.01), np.arange(-3,3,0.01)*Vt.T[:,1][1]/Vt.T[:,1][0], \n",
    "         \"g--\", label=\"PCA 2\")\n",
    "plt.legend()\n",
    "plt.xlabel(\"X_1\")\n",
    "plt.ylabel(\"X_2\")\n",
    "plt.xlim([-3,3])\n",
    "plt.ylim([-3,3])\n",
    "plt.title(\"PCA\")\n",
    "plt.subplot(122)\n",
    "plt.plot(X2D[:,0]*math.cos(math.atan(Vt.T[:,0][1]/Vt.T[:,0][0])), \n",
    "         X2D[:,0]*math.sin(math.atan(Vt.T[:,0][1]/Vt.T[:,0][0])), \n",
    "         \"r.\", label=\"data 1\")\n",
    "plt.plot(X2D[:,1]*math.cos(math.atan(Vt.T[:,1][1]/Vt.T[:,1][0])), \n",
    "         X2D[:,1]*math.sin(math.atan(Vt.T[:,1][1]/Vt.T[:,1][0])), \n",
    "         \"g.\", label=\"data 2\")\n",
    "plt.legend()\n",
    "plt.xlabel(\"X_1\")\n",
    "plt.ylabel(\"X_2\")\n",
    "plt.xlim([-3,3])\n",
    "plt.ylim([-3,3])\n",
    "plt.title(\"Project\")\n",
    "plt.savefig(\"../plots/ex_8_01.pdf\")\n",
    "\n",
    "# PCA\n",
    "pca = PCA(n_components = 2)\n",
    "X2D = pca.fit_transform(X)"
   ]
  },
  {
   "cell_type": "code",
   "execution_count": null,
   "metadata": {},
   "outputs": [],
   "source": []
  }
 ],
 "metadata": {
  "kernelspec": {
   "display_name": "Python 3",
   "language": "python",
   "name": "python3"
  },
  "language_info": {
   "codemirror_mode": {
    "name": "ipython",
    "version": 3
   },
   "file_extension": ".py",
   "mimetype": "text/x-python",
   "name": "python",
   "nbconvert_exporter": "python",
   "pygments_lexer": "ipython3",
   "version": "3.6.0"
  }
 },
 "nbformat": 4,
 "nbformat_minor": 2
}
