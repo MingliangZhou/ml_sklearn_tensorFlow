{
 "cells": [
  {
   "cell_type": "code",
   "execution_count": 40,
   "metadata": {},
   "outputs": [
    {
     "name": "stdout",
     "output_type": "stream",
     "text": [
      "0.8695\n"
     ]
    }
   ],
   "source": [
    "import sys\n",
    "import warnings\n",
    "if not sys.warnoptions:\n",
    "    warnings.simplefilter(\"ignore\")\n",
    "    \n",
    "import numpy as np\n",
    "import matplotlib\n",
    "import matplotlib.pyplot as plt\n",
    "from matplotlib.colors import ListedColormap\n",
    "from sklearn.datasets import make_moons\n",
    "from sklearn.model_selection import train_test_split\n",
    "from sklearn.model_selection import GridSearchCV\n",
    "from sklearn.tree import DecisionTreeClassifier\n",
    "from sklearn.metrics import accuracy_score\n",
    "\n",
    "# moons\n",
    "X, y = make_moons(n_samples=10000, noise=0.4, random_state=42)\n",
    "X_train, X_test, y_train, y_test = train_test_split(X, y, test_size=0.2, random_state=42)\n",
    "\n",
    "# grid search\n",
    "parameters = {\n",
    "    \"max_leaf_nodes\": range(2,40,2),\n",
    "    #\"min_samples_leaf\": range(2,300,10),\n",
    "}\n",
    "tree_clf = DecisionTreeClassifier()\n",
    "grid_clf = GridSearchCV(tree_clf, parameters, scoring=\"accuracy\", cv=3)\n",
    "grid_clf.fit(X_train, y_train)\n",
    "\n",
    "# test\n",
    "final_model = grid_clf.best_estimator_\n",
    "final_model.fit(X_train, y_train)\n",
    "print(accuracy_score(y_test, final_model.predict(X_test)))\n",
    "\n",
    "# plot\n",
    "X1, X2 = np.meshgrid(np.arange(-2.5,3.5,0.05), np.arange(-2,2.5,0.05))\n",
    "y_mesh = final_model.predict(np.array([X1.flatten(), X2.flatten()]).T)\n",
    "plt.figure(figsize=(10,5))\n",
    "plt.subplot(121)\n",
    "plt.contourf(X1, X2, y_mesh.reshape(X1.shape), cmap=plt.get_cmap(\"jet\"), alpha=0.5)\n",
    "plt.plot(X_train[y_train==0][:,0], X_train[y_train==0][:,1], \"b.\", alpha=0.3)\n",
    "plt.plot(X_train[y_train==1][:,0], X_train[y_train==1][:,1], \"r.\", alpha=0.3)\n",
    "plt.title(\"train\")\n",
    "plt.xlabel(\"X_1\")\n",
    "plt.ylabel(\"X_2\")\n",
    "plt.subplot(122)\n",
    "plt.contourf(X1, X2, y_mesh.reshape(X1.shape), cmap=plt.get_cmap(\"jet\"), alpha=0.5)\n",
    "plt.plot(X_test[y_test==0][:,0], X_test[y_test==0][:,1], \"b.\", alpha=0.5)\n",
    "plt.plot(X_test[y_test==1][:,0], X_test[y_test==1][:,1], \"r.\", alpha=0.5)\n",
    "plt.title(\"test\")\n",
    "plt.xlabel(\"X_1\")\n",
    "plt.ylabel(\"X_2\")\n",
    "plt.savefig(\"../plots/ex_6_04.pdf\")\n"
   ]
  },
  {
   "cell_type": "code",
   "execution_count": null,
   "metadata": {},
   "outputs": [],
   "source": []
  }
 ],
 "metadata": {
  "kernelspec": {
   "display_name": "Python 3",
   "language": "python",
   "name": "python3"
  },
  "language_info": {
   "codemirror_mode": {
    "name": "ipython",
    "version": 3
   },
   "file_extension": ".py",
   "mimetype": "text/x-python",
   "name": "python",
   "nbconvert_exporter": "python",
   "pygments_lexer": "ipython3",
   "version": "3.6.0"
  }
 },
 "nbformat": 4,
 "nbformat_minor": 2
}
