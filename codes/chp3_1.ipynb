{
 "cells": [
  {
   "cell_type": "code",
   "execution_count": null,
   "metadata": {},
   "outputs": [
    {
     "name": "stdout",
     "output_type": "stream",
     "text": [
      "Random Forest: 0.941765572559\n"
     ]
    }
   ],
   "source": [
    "import sys\n",
    "import warnings\n",
    "if not sys.warnoptions:\n",
    "    warnings.simplefilter(\"ignore\")\n",
    "\n",
    "import numpy as np\n",
    "import pandas as pd\n",
    "from sklearn.linear_model import SGDClassifier\n",
    "from sklearn.ensemble import RandomForestClassifier\n",
    "from sklearn.neighbors import KNeighborsClassifier\n",
    "from sklearn.model_selection import cross_val_score\n",
    "from sklearn.model_selection import cross_val_predict\n",
    "from sklearn.model_selection import GridSearchCV\n",
    "from sklearn.metrics import confusion_matrix\n",
    "from sklearn.metrics import accuracy_score\n",
    "\n",
    "df_train = pd.read_csv(\"../datasets/mnist_train.csv\")\n",
    "df_test = pd.read_csv(\"../datasets/mnist_test.csv\")\n",
    "\n",
    "X_train = df_train.drop(\"5\", axis=1).values\n",
    "y_train = df_train[\"5\"].values\n",
    "X_test = df_test.drop(\"7\", axis=1).values\n",
    "y_test = df_test[\"7\"].values\n",
    "\n",
    "shuffle_index = np.random.RandomState(seed=42).permutation(len(X_train))\n",
    "X_train, y_train = X_train[shuffle_index], y_train[shuffle_index]\n",
    "\n",
    "sgd_clf = SGDClassifier()\n",
    "#accuracy_sgd = cross_val_score(sgd_clf, X_train, y_train, cv=3, scoring=\"accuracy\")\n",
    "#print(\"SGD:\", accuracy_sgd.mean())\n",
    "\n",
    "forest_clf = RandomForestClassifier()\n",
    "accuracy_forest = cross_val_score(forest_clf, X_train, y_train, cv=3, scoring=\"accuracy\")\n",
    "print(\"Random Forest:\", accuracy_forest.mean())\n",
    "\n",
    "knn_clf = KNeighborsClassifier()\n",
    "accuracy_knn = cross_val_score(knn_clf, X_train, y_train, cv=3, scoring=\"accuracy\")\n",
    "print(\"KNN:\", accuracy_knn.mean())\n",
    "\n",
    "#param_grid = [\n",
    "#    {\"n_neighbors\": range(1,11,2), \n",
    "#     \"algorithm\": [\"auto\", \"ball_tree\", \"kd_tree\", \"brute\"],\n",
    "#     \"weights\": [\"uniform\", \"distance\"]},\n",
    "#]\n",
    "#grid_search = GridSearchCV(knn_clf, param_grid, cv=5, scoring=\"accuracy\")\n",
    "#grid_search.fit(X_train, y_train)\n",
    "#grid_results = zip(grid_search.cv_results_[\"mean_test_score\"], \n",
    "#                   grid_search.cv_results_[\"params\"])\n",
    "#grid_results = grid_results[np.argsort(grid_results[:,0])]\n",
    "#print(grid_results)"
   ]
  },
  {
   "cell_type": "code",
   "execution_count": null,
   "metadata": {},
   "outputs": [],
   "source": []
  }
 ],
 "metadata": {
  "kernelspec": {
   "display_name": "Python 3",
   "language": "python",
   "name": "python3"
  },
  "language_info": {
   "codemirror_mode": {
    "name": "ipython",
    "version": 3
   },
   "file_extension": ".py",
   "mimetype": "text/x-python",
   "name": "python",
   "nbconvert_exporter": "python",
   "pygments_lexer": "ipython3",
   "version": "3.6.0"
  }
 },
 "nbformat": 4,
 "nbformat_minor": 2
}
