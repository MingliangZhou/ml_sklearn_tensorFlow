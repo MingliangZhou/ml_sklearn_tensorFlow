{
 "cells": [
  {
   "cell_type": "code",
   "execution_count": 56,
   "metadata": {},
   "outputs": [
    {
     "name": "stderr",
     "output_type": "stream",
     "text": [
      "/usr/local/lib/python3.6/site-packages/matplotlib/pyplot.py:523: RuntimeWarning: More than 20 figures have been opened. Figures created through the pyplot interface (`matplotlib.pyplot.figure`) are retained until explicitly closed and may consume too much memory. (To control this warning, see the rcParam `figure.max_open_warning`).\n",
      "  max_open_warning, RuntimeWarning)\n"
     ]
    }
   ],
   "source": [
    "import numpy as np\n",
    "import matplotlib.pyplot as plt\n",
    "import tensorflow as tf\n",
    "from sklearn.datasets import load_sample_image\n",
    "\n",
    "# load sample images\n",
    "china = load_sample_image(\"china.jpg\")\n",
    "flower = load_sample_image(\"flower.jpg\")\n",
    "dataset = np.array([china, flower], dtype=np.float32)\n",
    "batch_size, height, width, channels = dataset.shape\n",
    "plt.figure()\n",
    "plt.subplot(121)\n",
    "plt.imshow(dataset[0].astype(np.uint8))\n",
    "plt.subplot(122)\n",
    "plt.imshow(dataset[1].astype(np.uint8))\n",
    "plt.savefig(\"../plots/ex_13_01.pdf\")\n",
    "\n",
    "# create 2 filters\n",
    "filters = np.ones(shape=(7, 7, channels, 2), dtype=np.float32)\n",
    "filters[:,3,:,0] = 1 # vertical line\n",
    "filters[3,:,:,1] = 1 # horizontal line\n",
    "\n",
    "# input and single convolutional layer\n",
    "X = tf.placeholder(tf.float32, shape=(None, height, width, channels), name=\"input\")\n",
    "convolution = tf.nn.conv2d(X, filters, strides=[1,2,2,1], padding=\"SAME\", name=\"convolution\")\n",
    "\n",
    "# run session\n",
    "with tf.Session() as sess:\n",
    "    output = sess.run(convolution, feed_dict={X: dataset})\n",
    "plt.figure()\n",
    "plt.subplot(221)\n",
    "plt.imshow(output[0,:,:,0])\n",
    "plt.subplot(222)\n",
    "plt.imshow(output[0,:,:,1])\n",
    "plt.subplot(223)\n",
    "plt.imshow(output[1,:,:,0])\n",
    "plt.subplot(224)\n",
    "plt.imshow(output[1,:,:,1])\n",
    "plt.savefig(\"../plots/ex_13_02.pdf\")\n",
    "\n",
    "# max pooling layer\n",
    "max_pool = tf.nn.max_pool(X, ksize=[1,4,4,1], strides=[1,1,1,1], padding=\"VALID\")\n",
    "with tf.Session() as sess:\n",
    "    output = sess.run(max_pool, feed_dict={X: dataset})\n",
    "plt.figure()\n",
    "plt.subplot(121)\n",
    "plt.imshow(output[0].astype(np.uint8))\n",
    "plt.subplot(122)\n",
    "plt.imshow(output[1].astype(np.uint8))\n",
    "plt.savefig(\"../plots/ex_13_03.pdf\")\n",
    "\n",
    "# average pooling layer\n",
    "avg_pool = tf.nn.avg_pool(X, ksize=[1,4,4,1], strides=[1,1,1,1], padding=\"VALID\")\n",
    "with tf.Session() as sess:\n",
    "    output = sess.run(avg_pool, feed_dict={X: dataset})\n",
    "plt.figure()\n",
    "plt.subplot(121)\n",
    "plt.imshow(output[0].astype(np.uint8))\n",
    "plt.subplot(122)\n",
    "plt.imshow(output[1].astype(np.uint8))\n",
    "plt.savefig(\"../plots/ex_13_04.pdf\")"
   ]
  },
  {
   "cell_type": "code",
   "execution_count": null,
   "metadata": {},
   "outputs": [],
   "source": []
  }
 ],
 "metadata": {
  "kernelspec": {
   "display_name": "Python 3",
   "language": "python",
   "name": "python3"
  },
  "language_info": {
   "codemirror_mode": {
    "name": "ipython",
    "version": 3
   },
   "file_extension": ".py",
   "mimetype": "text/x-python",
   "name": "python",
   "nbconvert_exporter": "python",
   "pygments_lexer": "ipython3",
   "version": "3.6.0"
  }
 },
 "nbformat": 4,
 "nbformat_minor": 2
}
