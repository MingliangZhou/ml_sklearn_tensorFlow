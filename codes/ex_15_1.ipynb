{
 "cells": [
  {
   "cell_type": "code",
   "execution_count": 15,
   "metadata": {},
   "outputs": [
    {
     "name": "stderr",
     "output_type": "stream",
     "text": [
      "/usr/local/lib/python3.6/site-packages/matplotlib/pyplot.py:523: RuntimeWarning: More than 20 figures have been opened. Figures created through the pyplot interface (`matplotlib.pyplot.figure`) are retained until explicitly closed and may consume too much memory. (To control this warning, see the rcParam `figure.max_open_warning`).\n",
      "  max_open_warning, RuntimeWarning)\n"
     ]
    }
   ],
   "source": [
    "import tensorflow as tf\n",
    "import numpy as np\n",
    "import matplotlib\n",
    "import matplotlib.pyplot as plt\n",
    "from mpl_toolkits.mplot3d import Axes3D\n",
    "\n",
    "n_inputs = 3\n",
    "n_hidden = 2\n",
    "n_outputs = n_inputs\n",
    "\n",
    "learning_rate = 0.01\n",
    "\n",
    "X = tf.placeholder(tf.float32, shape=[None, n_inputs])\n",
    "hidden = tf.layers.dense(X, n_hidden)\n",
    "outputs = tf.layers.dense(hidden, n_outputs)\n",
    "\n",
    "reconstruction_loss = tf.reduce_mean(tf.square(outputs - X))\n",
    "\n",
    "optimizer = tf.train.AdamOptimizer(learning_rate=learning_rate)\n",
    "training_op = optimizer.minimize(reconstruction_loss)\n",
    "\n",
    "init = tf.global_variables_initializer()\n",
    "\n",
    "def gen3D(num=100):\n",
    "    x = 1 - 2 * np.random.rand(num)\n",
    "    y = 1 - 2 * np.random.rand(num)\n",
    "    xv, yv = np.meshgrid(x, y)\n",
    "    zv = 3 * xv + 4 * yv\n",
    "    return np.dstack((xv, yv, zv)).reshape(-1,3)\n",
    "\n",
    "X_train = gen3D(1000)\n",
    "X_test = gen3D(20)\n",
    "\n",
    "n_iterations = 1000\n",
    "codings = hidden\n",
    "\n",
    "with tf.Session() as sess:\n",
    "    init.run()\n",
    "    for iteration in range(n_iterations):\n",
    "        sess.run(training_op, feed_dict={X: X_train})\n",
    "    codings_val = codings.eval(feed_dict={X: X_test})\n",
    "    \n",
    "plt.figure(figsize=(8,4))\n",
    "plt.subplot(121)\n",
    "ax = plt.figure(figsize=(8,4)).add_subplot(121, projection='3d')\n",
    "ax.scatter(X_test[:,0], X_test[:,1], X_test[:,2])\n",
    "ax.view_init(15,80)\n",
    "ax.set_title(\"Raw 3D\")\n",
    "plt.subplot(122)\n",
    "plt.scatter(codings_val[:,0], codings_val[:,1])\n",
    "plt.title(\"Autoencoder\")\n",
    "plt.savefig(\"../plots/ex_15_01.pdf\")"
   ]
  },
  {
   "cell_type": "code",
   "execution_count": null,
   "metadata": {},
   "outputs": [],
   "source": []
  }
 ],
 "metadata": {
  "kernelspec": {
   "display_name": "Python 3",
   "language": "python",
   "name": "python3"
  },
  "language_info": {
   "codemirror_mode": {
    "name": "ipython",
    "version": 3
   },
   "file_extension": ".py",
   "mimetype": "text/x-python",
   "name": "python",
   "nbconvert_exporter": "python",
   "pygments_lexer": "ipython3",
   "version": "3.6.0"
  }
 },
 "nbformat": 4,
 "nbformat_minor": 2
}
